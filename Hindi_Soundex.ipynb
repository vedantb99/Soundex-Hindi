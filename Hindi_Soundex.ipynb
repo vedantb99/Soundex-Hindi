{
  "nbformat": 4,
  "nbformat_minor": 0,
  "metadata": {
    "colab": {
      "name": "Hindi-Soundex.ipynb",
      "provenance": [],
      "collapsed_sections": [],
      "include_colab_link": true
    },
    "kernelspec": {
      "name": "python3",
      "display_name": "Python 3"
    },
    "language_info": {
      "name": "python"
    }
  },
  "cells": [
    {
      "cell_type": "markdown",
      "metadata": {
        "id": "view-in-github",
        "colab_type": "text"
      },
      "source": [
        "<a href=\"https://colab.research.google.com/github/vedantb99/Soundex-Hindi/blob/main/Hindi_Soundex.ipynb\" target=\"_parent\"><img src=\"https://colab.research.google.com/assets/colab-badge.svg\" alt=\"Open In Colab\"/></a>"
      ]
    },
    {
      "cell_type": "markdown",
      "metadata": {
        "id": "Gyn_qDsJ4j3P"
      },
      "source": [
        "# Soundex algorithm for Hindi Language"
      ]
    },
    {
      "cell_type": "markdown",
      "metadata": {
        "id": "wE-V2qARFxBF"
      },
      "source": [
        "Storing Vowels & Consonants for lookup"
      ]
    },
    {
      "cell_type": "code",
      "metadata": {
        "id": "hnlzite-I148"
      },
      "source": [
        "vowels =  ['ऀ', 'ँ', 'ं', 'ः', 'ऄ', 'अ', 'आ', 'इ', 'ई', 'उ', 'ऊ', 'ऋ', 'ऌ', 'ऍ', 'ऎ', 'ए', 'ऐ', 'ऑ', 'ऒ', 'ओ', 'औ', \n",
        "           'ऺ', 'ऻ', '़', 'ऽ', 'ा', 'ि', 'ी', 'ु', 'ू', 'ृ', 'ॄ', 'ॅ', 'ॆ', 'े', 'ै', 'ॉ', 'ॊ', 'ो', 'ौ', 'ॎ', 'ॏ']\n",
        "consonants = ['क', 'ख', 'ग', 'घ', 'ङ', 'च', 'छ', 'ज', 'झ', 'ञ', 'ट', 'ठ', 'ड', 'ढ', 'ण', 'त', 'थ', 'द', 'ध', 'न', 'ऩ',\n",
        "              'प', 'फ', 'ब', 'भ', 'म', 'य', 'र', 'ऱ', 'ल', 'व', 'श', 'ष', 'स', 'ह']"
      ],
      "execution_count": null,
      "outputs": []
    },
    {
      "cell_type": "markdown",
      "metadata": {
        "id": "2-f3d1EAGGU6"
      },
      "source": [
        "**Creating a dictionary to map letters to their groups**  \n",
        "क, ख, ग, घ, ङ => Group १  \n",
        "च, छ, ज, झ, ञ => Group २  \n",
        "ट, ठ, ड, ढ, ण => Group ३  \n",
        "त, थ, द, ध, न, ऩ => Group ४  \n",
        "प, फ, ब, भ, म => Group ५  \n",
        "य, र, ऱ, ल, व, श => Group ६  \n",
        "ष, स, ह => Group ७"
      ]
    },
    {
      "cell_type": "code",
      "metadata": {
        "id": "5Q-YEwppJVzY"
      },
      "source": [
        "map = {\n",
        "    '१':['क', 'ख', 'ग', 'घ', 'ङ'], '२':['च', 'छ','ज', 'झ', 'ञ'], '३':['ट', 'ठ', 'ड', 'ढ', 'ण'], '४':['त', 'थ', 'द', 'ध', 'न', 'ऩ' ],\n",
        "     '५':['प', 'फ', 'ब', 'भ', 'म'], '६':['य', 'र', 'ऱ', 'ल', 'व', 'श'], '७': ['ष', 'स', 'ह' ] \n",
        "}"
      ],
      "execution_count": null,
      "outputs": []
    },
    {
      "cell_type": "markdown",
      "metadata": {
        "id": "QMOxOKUFKkNw"
      },
      "source": [
        "Replacing all vowels with a hyphen (-)"
      ]
    },
    {
      "cell_type": "code",
      "metadata": {
        "id": "jOIsxg1qK1jF"
      },
      "source": [
        "def replaceVowels(s):\n",
        "    res = \"\"\n",
        "    for x in s:\n",
        "        if (x in vowels):\n",
        "            res += '-'\n",
        "        else:\n",
        "            res += x\n",
        "    return res    "
      ],
      "execution_count": null,
      "outputs": []
    },
    {
      "cell_type": "markdown",
      "metadata": {
        "id": "jsML8PbMiW3X"
      },
      "source": [
        "Encoding consonants by their groups"
      ]
    },
    {
      "cell_type": "code",
      "metadata": {
        "id": "v9qpmfnVibrL"
      },
      "source": [
        "def encodeByGroup(s):\n",
        "    res = \"\"\n",
        "    for x in s:\n",
        "        if x == '-':\n",
        "            res += x\n",
        "            continue\n",
        "        for group_no in map:\n",
        "            if x in map[group_no]:\n",
        "                res += group_no\n",
        "    return res"
      ],
      "execution_count": null,
      "outputs": []
    },
    {
      "cell_type": "markdown",
      "metadata": {
        "id": "lyhwYOALhDiK"
      },
      "source": [
        "Removing consecutive group codes which are same\n"
      ]
    },
    {
      "cell_type": "code",
      "metadata": {
        "id": "VZUPnH2wiUEU"
      },
      "source": [
        "from itertools import groupby\n",
        "def removeDuplicates(s):\n",
        "    test_list = []\n",
        "    test_list[:0] = s\n",
        "    res_list = [i[0] for i in groupby(test_list)]\n",
        "    res = ''.join([str(elem) for elem in res_list])\n",
        "    return res"
      ],
      "execution_count": null,
      "outputs": []
    },
    {
      "cell_type": "markdown",
      "metadata": {
        "id": "alpWLA_bjWrV"
      },
      "source": [
        "Removing all the hyphens from the word which were substituted for vowels"
      ]
    },
    {
      "cell_type": "code",
      "metadata": {
        "id": "IyvjDGWYjWVj"
      },
      "source": [
        "def removeHyphens(s):\n",
        "    res = \"\"\n",
        "    for x in s:\n",
        "        if x != '-':\n",
        "            res += x\n",
        "    return res"
      ],
      "execution_count": null,
      "outputs": []
    },
    {
      "cell_type": "markdown",
      "metadata": {
        "id": "0xJswunKF1Tv"
      },
      "source": [
        "Soundex Main Function"
      ]
    },
    {
      "cell_type": "code",
      "metadata": {
        "id": "oPnoWJTz4p7K"
      },
      "source": [
        "def HSoundex(word):\n",
        "    first_letter = word[0]\n",
        "\n",
        "    word = word.replace('्','')\n",
        "    word = first_letter + replaceVowels(word[1:])\n",
        "\n",
        "    word = first_letter + encodeByGroup(word[1:])\n",
        "\n",
        "    word = first_letter + removeDuplicates(word[1:])\n",
        "\n",
        "    if first_letter in consonants:\n",
        "        group_fl = 0\n",
        "        for group_no in map:\n",
        "            if first_letter in map[group_no]:\n",
        "                group_fl = group_no\n",
        "        if group_fl == word[1]:\n",
        "            word = first_letter + word[2:]\n",
        "\n",
        "    coded_word = removeHyphens(word)\n",
        "\n",
        "    if len(coded_word) > 4:\n",
        "        coded_word = coded_word[:4]\n",
        "    elif len(coded_word) < 4:\n",
        "        while len(coded_word) != 4:\n",
        "            coded_word += \"०\"\n",
        "\n",
        "    return coded_word"
      ],
      "execution_count": null,
      "outputs": []
    },
    {
      "cell_type": "code",
      "metadata": {
        "colab": {
          "base_uri": "https://localhost:8080/"
        },
        "id": "Kp39mYIyFeoO",
        "outputId": "4d4b3749-8a9a-49b5-9de6-965b260161c6"
      },
      "source": [
        "print(HSoundex(\"समान\"))\n",
        "print(HSoundex(\"सम्मान\"))"
      ],
      "execution_count": null,
      "outputs": [
        {
          "output_type": "stream",
          "text": [
            "स५४०\n",
            "स५४०\n"
          ],
          "name": "stdout"
        }
      ]
    },
    {
      "cell_type": "code",
      "metadata": {
        "colab": {
          "base_uri": "https://localhost:8080/"
        },
        "id": "sDkPT6dZNEot",
        "outputId": "c5148d25-fb7e-468e-e19d-840857555bb6"
      },
      "source": [
        "print(HSoundex(\"आँधी\"))\n",
        "print(HSoundex(\"अन्याय\"))"
      ],
      "execution_count": null,
      "outputs": [
        {
          "output_type": "stream",
          "text": [
            "आ४००\n",
            "अ४६६\n"
          ],
          "name": "stdout"
        }
      ]
    },
    {
      "cell_type": "code",
      "metadata": {
        "colab": {
          "base_uri": "https://localhost:8080/"
        },
        "id": "ZLO_ZYGnJTeu",
        "outputId": "818865b3-a79d-4665-92c6-52ac8c39e1d8"
      },
      "source": [
        "print(HSoundex(\"समवेदना\"))\n",
        "print(HSoundex(\"संवेदना\"))"
      ],
      "execution_count": null,
      "outputs": [
        {
          "output_type": "stream",
          "text": [
            "स५६४\n",
            "स६४०\n"
          ],
          "name": "stdout"
        }
      ]
    },
    {
      "cell_type": "code",
      "metadata": {
        "colab": {
          "base_uri": "https://localhost:8080/"
        },
        "id": "TERuSj3xKEuZ",
        "outputId": "80c9de96-f4d8-455c-ade7-c0c96400b8ba"
      },
      "source": [
        "print(HSoundex(\"दिन\"))\n",
        "print(HSoundex(\"दीन\"))"
      ],
      "execution_count": null,
      "outputs": [
        {
          "output_type": "stream",
          "text": [
            "द४००\n",
            "द४००\n"
          ],
          "name": "stdout"
        }
      ]
    },
    {
      "cell_type": "code",
      "metadata": {
        "colab": {
          "base_uri": "https://localhost:8080/"
        },
        "id": "khi0_G8SJ0BL",
        "outputId": "777edc0b-382d-4b4f-9aa1-8b1ed37354e5"
      },
      "source": [
        "print(HSoundex(\"सास\"))\n",
        "print(HSoundex(\"साँस\"))"
      ],
      "execution_count": null,
      "outputs": [
        {
          "output_type": "stream",
          "text": [
            "स७००\n",
            "स७००\n"
          ],
          "name": "stdout"
        }
      ]
    },
    {
      "cell_type": "code",
      "metadata": {
        "colab": {
          "base_uri": "https://localhost:8080/"
        },
        "id": "5D98SoJ5KZJa",
        "outputId": "794cdd9e-5ae2-43b9-e762-cd4981c5be46"
      },
      "source": [
        "print(HSoundex(\"परिणाम\"))\n",
        "print(HSoundex(\"परिमाण\"))"
      ],
      "execution_count": null,
      "outputs": [
        {
          "output_type": "stream",
          "text": [
            "प६३५\n",
            "प६५३\n"
          ],
          "name": "stdout"
        }
      ]
    },
    {
      "cell_type": "code",
      "metadata": {
        "colab": {
          "base_uri": "https://localhost:8080/"
        },
        "id": "E5h-6TYlKncr",
        "outputId": "ea303a7e-072b-43fc-941e-e2b348ec4172"
      },
      "source": [
        "print(HSoundex(\"चिंता\"))\n",
        "print(HSoundex(\"चीता\"))"
      ],
      "execution_count": null,
      "outputs": [
        {
          "output_type": "stream",
          "text": [
            "च४००\n",
            "च४००\n"
          ],
          "name": "stdout"
        }
      ]
    },
    {
      "cell_type": "code",
      "metadata": {
        "colab": {
          "base_uri": "https://localhost:8080/"
        },
        "id": "CLf-g3AqK1yT",
        "outputId": "d7c23b42-383e-4710-beba-3a8f32ad20c4"
      },
      "source": [
        "print(HSoundex(\"ग्रह\"))\n",
        "print(HSoundex(\"गृह\"))"
      ],
      "execution_count": null,
      "outputs": [
        {
          "output_type": "stream",
          "text": [
            "ग६७०\n",
            "ग७००\n"
          ],
          "name": "stdout"
        }
      ]
    },
    {
      "cell_type": "code",
      "metadata": {
        "colab": {
          "base_uri": "https://localhost:8080/"
        },
        "id": "H6lsUnMAK8HG",
        "outputId": "f83143a3-1081-422b-86f8-ba540cee2f22"
      },
      "source": [
        "print(HSoundex(\"अपेक्षा\"))\n",
        "print(HSoundex(\"उपेक्षा\"))"
      ],
      "execution_count": null,
      "outputs": [
        {
          "output_type": "stream",
          "text": [
            "अ५१७\n",
            "उ५१७\n"
          ],
          "name": "stdout"
        }
      ]
    },
    {
      "cell_type": "code",
      "metadata": {
        "colab": {
          "base_uri": "https://localhost:8080/"
        },
        "id": "jDKRTTgNLGT2",
        "outputId": "603cb6ed-ca85-4801-c2dc-75f260fe2745"
      },
      "source": [
        "print(HSoundex(\"बाग\"))\n",
        "print(HSoundex(\"बाघ\"))"
      ],
      "execution_count": null,
      "outputs": [
        {
          "output_type": "stream",
          "text": [
            "ब१००\n",
            "ब१००\n"
          ],
          "name": "stdout"
        }
      ]
    },
    {
      "cell_type": "code",
      "metadata": {
        "colab": {
          "base_uri": "https://localhost:8080/"
        },
        "id": "8kf_mlA3MQVX",
        "outputId": "62735381-0acd-450a-bd8c-1df8f7115916"
      },
      "source": [
        "print(HSoundex(\"वस्तु\"))\n",
        "print(HSoundex(\"वास्तु\"))"
      ],
      "execution_count": null,
      "outputs": [
        {
          "output_type": "stream",
          "text": [
            "व७४०\n",
            "व७४०\n"
          ],
          "name": "stdout"
        }
      ]
    },
    {
      "cell_type": "code",
      "metadata": {
        "id": "2s_C_9HuM0Ja"
      },
      "source": [
        ""
      ],
      "execution_count": null,
      "outputs": []
    }
  ]
}